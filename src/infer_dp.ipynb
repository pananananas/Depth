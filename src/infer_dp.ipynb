{
 "cells": [
  {
   "cell_type": "code",
   "execution_count": null,
   "metadata": {},
   "outputs": [],
   "source": [
    "from depth_pro.utils import load_rgb\n",
    "from depth_pro import depth_pro\n",
    "import matplotlib.pyplot as plt\n",
    "from matplotlib import cm\n",
    "from PIL import Image\n",
    "import numpy as np\n",
    "import torch"
   ]
  },
  {
   "cell_type": "code",
   "execution_count": null,
   "metadata": {},
   "outputs": [],
   "source": [
    "# Load model and preprocessing transform\n",
    "model, transform = depth_pro.create_model_and_transforms(device=torch.device(\"mps\"))\n",
    "model.eval();"
   ]
  },
  {
   "cell_type": "code",
   "execution_count": null,
   "metadata": {},
   "outputs": [],
   "source": [
    "image_path = '../data/patryk_reka.jpg'"
   ]
  },
  {
   "cell_type": "code",
   "execution_count": null,
   "metadata": {},
   "outputs": [],
   "source": [
    "# Load and preprocess an image.\n",
    "image, _, f_px = load_rgb(image_path)\n",
    "image = transform(image)"
   ]
  },
  {
   "cell_type": "code",
   "execution_count": null,
   "metadata": {},
   "outputs": [],
   "source": [
    "# Run inference.\n",
    "prediction = model.infer(image, f_px=f_px)\n",
    "depth = prediction[\"depth\"]  # Depth in [m].\n",
    "focallength_px = prediction[\"focallength_px\"]  # Focal length in pixels."
   ]
  },
  {
   "cell_type": "code",
   "execution_count": null,
   "metadata": {},
   "outputs": [],
   "source": [
    "prediction"
   ]
  },
  {
   "cell_type": "code",
   "execution_count": null,
   "metadata": {},
   "outputs": [],
   "source": [
    "focallength_px"
   ]
  },
  {
   "cell_type": "code",
   "execution_count": null,
   "metadata": {},
   "outputs": [],
   "source": [
    "depth.shape"
   ]
  },
  {
   "cell_type": "code",
   "execution_count": null,
   "metadata": {},
   "outputs": [],
   "source": [
    "depth_cpu = depth.cpu()\n",
    "depth_np = depth_cpu.numpy()\n",
    "\n",
    "depth_min = depth_np.min()\n",
    "depth_max = depth_np.max()\n",
    "\n",
    "if depth_max - depth_min > 0:\n",
    "    depth_normalized = (depth_max - depth_np) / (depth_max - depth_min)\n",
    "else:\n",
    "    depth_normalized = np.zeros_like(depth_np)\n",
    "\n",
    "depth_scaled = (depth_normalized * 255).astype(np.uint8)\n",
    "depth_image = Image.fromarray(depth_scaled)\n",
    "depth_image.save('depth_grayscale.png')\n",
    "\n",
    "colormap = plt.get_cmap('viridis')\n",
    "depth_colored = colormap(depth_normalized)  # RGBA\n",
    "depth_colored = (depth_colored[:, :, :3] * 255).astype(np.uint8)  # Remove alpha channel\n",
    "depth_image_colored = Image.fromarray(depth_colored)\n",
    "depth_image_colored.save('depth_colored.png')"
   ]
  },
  {
   "cell_type": "code",
   "execution_count": null,
   "metadata": {},
   "outputs": [],
   "source": [
    "original_image = Image.open(image_path).convert('RGB').rotate(-90, expand=True)\n",
    "\n",
    "fig, axs = plt.subplots(1, 3, figsize=(24, 8))\n",
    "axs[0].imshow(original_image)\n",
    "axs[0].set_title('Original Image')\n",
    "axs[0].axis('off')\n",
    "\n",
    "im1 = axs[1].imshow(depth_scaled, cmap='gray')\n",
    "axs[1].set_title('Grayscale Depth Map')\n",
    "axs[1].axis('off')\n",
    "fig.colorbar(im1, ax=axs[1], fraction=0.046, pad=0.04, label='Depth Intensity')\n",
    "\n",
    "im2 = axs[2].imshow(depth_colored)\n",
    "axs[2].set_title('Colored Depth Map (Viridis)')\n",
    "axs[2].axis('off')\n",
    "\n",
    "sm = cm.ScalarMappable(cmap=colormap, norm=plt.Normalize(vmin=depth_min, vmax=depth_max))\n",
    "sm.set_array([])\n",
    "fig.colorbar(sm, ax=axs[2], fraction=0.046, pad=0.04, label='Depth (m)')\n",
    "\n",
    "plt.tight_layout()\n",
    "plt.show()\n",
    "\n"
   ]
  }
 ],
 "metadata": {
  "kernelspec": {
   "display_name": ".venv",
   "language": "python",
   "name": "python3"
  },
  "language_info": {
   "codemirror_mode": {
    "name": "ipython",
    "version": 3
   },
   "file_extension": ".py",
   "mimetype": "text/x-python",
   "name": "python",
   "nbconvert_exporter": "python",
   "pygments_lexer": "ipython3",
   "version": "3.10.15"
  }
 },
 "nbformat": 4,
 "nbformat_minor": 2
}
