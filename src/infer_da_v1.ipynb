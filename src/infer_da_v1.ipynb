{
 "cells": [
  {
   "cell_type": "code",
   "execution_count": null,
   "metadata": {},
   "outputs": [],
   "source": [
    "from transformers import AutoImageProcessor, AutoModelForDepthEstimation\n",
    "import matplotlib.pyplot as plt\n",
    "from PIL import Image\n",
    "import torch\n",
    "import gc"
   ]
  },
  {
   "cell_type": "code",
   "execution_count": null,
   "metadata": {},
   "outputs": [],
   "source": [
    "image_path = '../data/patryk_reka.jpg'\n",
    "output_path = '../data/outputs'"
   ]
  },
  {
   "cell_type": "code",
   "execution_count": null,
   "metadata": {},
   "outputs": [],
   "source": [
    "image_processor = AutoImageProcessor.from_pretrained(\"LiheYoung/depth-anything-small-hf\")\n",
    "model = AutoModelForDepthEstimation.from_pretrained(\"LiheYoung/depth-anything-small-hf\")"
   ]
  },
  {
   "cell_type": "code",
   "execution_count": null,
   "metadata": {},
   "outputs": [],
   "source": [
    "# Load and preprocess an image.\n",
    "image = Image.open(image_path)\n",
    "inputs = image_processor(images=image, return_tensors=\"pt\")"
   ]
  },
  {
   "cell_type": "code",
   "execution_count": null,
   "metadata": {},
   "outputs": [],
   "source": [
    "# Run inference.\n",
    "with torch.no_grad():\n",
    "  outputs = model(**inputs)"
   ]
  },
  {
   "cell_type": "code",
   "execution_count": null,
   "metadata": {},
   "outputs": [],
   "source": [
    "post_processed_output = image_processor.post_process_depth_estimation(\n",
    "  outputs,\n",
    "  target_sizes=[(image.height, image.width)],\n",
    ")"
   ]
  },
  {
   "cell_type": "code",
   "execution_count": null,
   "metadata": {},
   "outputs": [],
   "source": [
    "predicted_depth = post_processed_output[0][\"predicted_depth\"]\n",
    "depth = (predicted_depth - predicted_depth.min()) / (predicted_depth.max() - predicted_depth.min())\n",
    "depth = depth.detach().cpu().numpy() * 255\n",
    "depth = Image.fromarray(depth.astype(\"uint8\"))\n"
   ]
  },
  {
   "cell_type": "code",
   "execution_count": null,
   "metadata": {},
   "outputs": [],
   "source": [
    "depth.save(output_path + '/deptha.jpg')"
   ]
  },
  {
   "cell_type": "code",
   "execution_count": null,
   "metadata": {},
   "outputs": [],
   "source": [
    "print(\"Zwalnianie pamięci zajmowanej przez model...\")\n",
    "del model\n",
    "del image\n",
    "gc.collect()\n",
    "print(\"Pamięć zwolniona.\")"
   ]
  },
  {
   "cell_type": "code",
   "execution_count": null,
   "metadata": {},
   "outputs": [],
   "source": [
    "original_image = Image.open(image_path).convert('RGB').rotate(-90, expand=True)\n",
    "\n",
    "fig, axs = plt.subplots(1, 2, figsize=(24, 8))\n",
    "axs[0].imshow(original_image)\n",
    "axs[0].set_title('Original Image')\n",
    "axs[0].axis('off')\n",
    "\n",
    "im1 = axs[1].imshow(depth, cmap='gray')\n",
    "axs[1].set_title('Grayscale Depth Map')\n",
    "axs[1].axis('off')\n",
    "fig.colorbar(im1, ax=axs[1], fraction=0.046, pad=0.04, label='Depth Intensity')\n",
    "\n",
    "plt.tight_layout()\n",
    "plt.show()"
   ]
  }
 ],
 "metadata": {
  "kernelspec": {
   "display_name": ".venv",
   "language": "python",
   "name": "python3"
  },
  "language_info": {
   "codemirror_mode": {
    "name": "ipython",
    "version": 3
   },
   "file_extension": ".py",
   "mimetype": "text/x-python",
   "name": "python",
   "nbconvert_exporter": "python",
   "pygments_lexer": "ipython3",
   "version": "3.10.15"
  }
 },
 "nbformat": 4,
 "nbformat_minor": 2
}
